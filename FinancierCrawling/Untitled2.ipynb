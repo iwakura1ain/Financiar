{
 "cells": [
  {
   "cell_type": "code",
   "execution_count": 1,
   "id": "8d3ef51a-0453-4387-8116-ba8a48b2ee0a",
   "metadata": {
    "collapsed": false
   },
   "outputs": [
    {
     "name": "stdout",
     "output_type": "stream",
     "text": [
      "[{'model': 'admin.logentry', 'pk': 1, 'fields': {'action_time': '2023-10-04T07:00:07.937Z', 'user': 1, 'content_type': 7, 'object_id': '0', 'object_repr': 'Stock object (0)', 'action_flag': 2, 'change_message': '[{\"changed\": {\"fields\": [\"Desc\"]}}]'}}, {'model': 'admin.logentry', 'pk': 2, 'fields': {'action_time': '2023-10-04T07:28:57.381Z', 'user': 1, 'content_type': 7, 'object_id': '0', 'object_repr': 'Stock object (0)', 'action_flag': 2, 'change_message': '[{\"changed\": {\"fields\": [\"Desc\"]}}]'}}, {'model': 'admin.logentry', 'pk': 3, 'fields': {'action_time': '2023-10-04T07:59:33.255Z', 'user': 1, 'content_type': 7, 'object_id': '0', 'object_repr': 'Stock object (0)', 'action_flag': 2, 'change_message': '[{\"changed\": {\"fields\": [\"Desc\"]}}]'}}, {'model': 'admin.logentry', 'pk': 4, 'fields': {'action_time': '2023-10-04T08:02:38.971Z', 'user': 1, 'content_type': 7, 'object_id': '0', 'object_repr': 'Stock object (0)', 'action_flag': 2, 'change_message': '[{\"changed\": {\"fields\": [\"Desc\"]}}]'}}, {'model': 'admin.logentry', 'pk': 5, 'fields': {'action_time': '2023-10-04T08:03:02.186Z', 'user': 1, 'content_type': 7, 'object_id': '0', 'object_repr': 'Stock object (0)', 'action_flag': 2, 'change_message': '[{\"changed\": {\"fields\": [\"Desc\"]}}]'}}, {'model': 'admin.logentry', 'pk': 6, 'fields': {'action_time': '2023-10-04T08:03:14.691Z', 'user': 1, 'content_type': 7, 'object_id': '0', 'object_repr': 'Stock object (0)', 'action_flag': 2, 'change_message': '[{\"changed\": {\"fields\": [\"Desc\"]}}]'}}, {'model': 'admin.logentry', 'pk': 7, 'fields': {'action_time': '2023-10-04T08:03:57.204Z', 'user': 1, 'content_type': 7, 'object_id': '0', 'object_repr': 'Stock object (0)', 'action_flag': 2, 'change_message': '[{\"changed\": {\"fields\": [\"Desc\"]}}]'}}, {'model': 'auth.permission', 'pk': 1, 'fields': {'name': 'Can add log entry', 'content_type': 1, 'codename': 'add_logentry'}}, {'model': 'auth.permission', 'pk': 2, 'fields': {'name': 'Can change log entry', 'content_type': 1, 'codename': 'change_logentry'}}, {'model': 'auth.permission', 'pk': 3, 'fields': {'name': 'Can delete log entry', 'content_type': 1, 'codename': 'delete_logentry'}}]\n"
     ]
    }
   ],
   "source": [
    "import json\n",
    "\n",
    "# JSON file\n",
    "info = open ('dumped.json', \"r\")\n",
    "\n",
    "\n",
    "# Reading from file\n",
    "data = json.loads(info.read())\n",
    "\n",
    "\n",
    "print(data[:10])"
   ]
  },
  {
   "cell_type": "code",
   "execution_count": 6,
   "id": "5f8d73bf-9f84-411a-9e50-205ed3f5e8ae",
   "metadata": {
    "collapsed": false
   },
   "outputs": [
    {
     "data": {
      "text/plain": [
       "[{'model': 'FDRReader.stock',\n",
       "  'pk': 0,\n",
       "  'fields': {'ticker': 'MMM',\n",
       "   'name': '3M',\n",
       "   'sector': 'Industrials',\n",
       "   'rating': 12,\n",
       "   'desc': 'No information.',\n",
       "   'link': '#',\n",
       "   'recent': 0.0}},\n",
       " {'model': 'FDRReader.stock',\n",
       "  'pk': 1,\n",
       "  'fields': {'ticker': 'AOS',\n",
       "   'name': 'A. O. Smith',\n",
       "   'sector': 'Industrials',\n",
       "   'rating': 10,\n",
       "   'desc': 'A. O. Smith Corporation is an American manufacturer of both residential and commercial water heaters and boilers, and the largest manufacturer and marketer of water heaters in North America. It also supplies water treatment and water purification products in the Asian market. The company has 27 locations worldwide, including five manufacturing facilities in North America, as well as plants in Bengaluru in India, Nanjing in China and Veldhoven in The Netherlands.',\n",
       "   'link': '#',\n",
       "   'recent': 0.0}},\n",
       " {'model': 'FDRReader.stock',\n",
       "  'pk': 2,\n",
       "  'fields': {'ticker': 'ABT',\n",
       "   'name': 'Abbott',\n",
       "   'sector': 'Health Care',\n",
       "   'rating': 5,\n",
       "   'desc': 'Abbott Laboratories is an American multinational medical devices and health care company with headquarters in Abbott Park, Illinois, United States. The company was founded by Chicago physician Wallace Calvin Abbott in 1888 to formulate known drugs; today, it sells medical devices, diagnostics, branded generic medicines and nutritional products. It split off its research-based pharmaceuticals business into AbbVie in 2013.',\n",
       "   'link': '#',\n",
       "   'recent': 0.0}},\n",
       " {'model': 'FDRReader.stock',\n",
       "  'pk': 3,\n",
       "  'fields': {'ticker': 'ABBV',\n",
       "   'name': 'AbbVie',\n",
       "   'sector': 'Health Care',\n",
       "   'rating': 3,\n",
       "   'desc': \"AbbVie Inc. is an American pharmaceutical company headquartered in North Chicago, Illinois. It is ranked 6th on the list of largest biomedical companies by revenue. The company's primary product is Humira (adalimumab) ($21 billion in 2022 revenues, 37% of total), administered via injection. It is approved to treat autoimmune diseases including rheumatoid arthritis, Crohn's disease, plaque psoriasis, and ulcerative colitis.\",\n",
       "   'link': '#',\n",
       "   'recent': 0.0}},\n",
       " {'model': 'FDRReader.stock',\n",
       "  'pk': 4,\n",
       "  'fields': {'ticker': 'ACN',\n",
       "   'name': 'Accenture',\n",
       "   'sector': 'Information Technology',\n",
       "   'rating': 3,\n",
       "   'desc': \"Accenture plc is an Irish-American professional services company based in Dublin, specializing in information technology (IT) services and consulting. A Fortune Global 500 company, it reported revenues of $61.6 billion in 2022. Accenture's current clients include 91 of the Fortune Global 100 and more than three-quarters of the Fortune Global 500. As of 2022, Accenture is considered the largest consulting firm in the world by number of employees.\",\n",
       "   'link': '#',\n",
       "   'recent': 0.0}},\n",
       " {'model': 'FDRReader.stock',\n",
       "  'pk': 5,\n",
       "  'fields': {'ticker': 'ATVI',\n",
       "   'name': 'Activision Blizzard',\n",
       "   'sector': 'Communication Services',\n",
       "   'rating': 2,\n",
       "   'desc': 'Activision Blizzard, Inc. is an American video game holding company based in Santa Monica, California. It was founded in July 2008 through the merger of Activision, Inc. (the publicly traded parent company of Activision Publishing) and Vivendi Games. It is traded on the Nasdaq stock exchange under the ticker symbol ATVI, and since 2015 has been a member of the S&P 500 Index. Activision Blizzard currently includes five business units: Activision Publishing, Blizzard Entertainment, King, Major League Gaming, and Activision Blizzard Studios.',\n",
       "   'link': '#',\n",
       "   'recent': 0.0}},\n",
       " {'model': 'FDRReader.stock',\n",
       "  'pk': 6,\n",
       "  'fields': {'ticker': 'ADM',\n",
       "   'name': 'ADM',\n",
       "   'sector': 'Consumer Staples',\n",
       "   'rating': 3,\n",
       "   'desc': 'The Archer-Daniels-Midland Company, commonly known as ADM, is an American multinational food processing and commodities trading corporation founded in 1902 and headquartered in Chicago, Illinois. The company operates more than 270 plants and 420 crop procurement facilities worldwide, where cereal grains and oilseeds are processed into products used in food, beverage, nutraceutical, industrial, and animal feed markets worldwide.',\n",
       "   'link': '#',\n",
       "   'recent': 0.0}},\n",
       " {'model': 'FDRReader.stock',\n",
       "  'pk': 7,\n",
       "  'fields': {'ticker': 'ADBE',\n",
       "   'name': 'Adobe Inc.',\n",
       "   'sector': 'Information Technology',\n",
       "   'rating': 6,\n",
       "   'desc': 'Adobe Inc. (/əˈdoʊbi/ ə-DOH-bee), originally called Adobe Systems Incorporated, is an American multinational computer software company incorporated in Delaware and headquartered in San Jose, California. It has historically specialized in software for the creation and publication of a wide range of content, including graphics, photography, illustration, animation, multimedia/video, motion pictures, and print. Its flagship products include Adobe Photoshop image editing software; Adobe Illustrator vector-based illustration software; Adobe Acrobat Reader and the Portable Document Format (PDF); and a host of tools primarily for audio-visual content creation, editing and publishing. Adobe offered a bundled solution of its products named Adobe Creative Suite, which evolved into a subscription software as a service (SaaS) offering named Adobe Creative Cloud. The company also expanded into digital marketing software and in 2021 was considered one of the top global leaders in Customer Experience Management (CXM).',\n",
       "   'link': '#',\n",
       "   'recent': 0.0}},\n",
       " {'model': 'FDRReader.stock',\n",
       "  'pk': 8,\n",
       "  'fields': {'ticker': 'ADP',\n",
       "   'name': 'ADP',\n",
       "   'sector': 'Industrials',\n",
       "   'rating': 3,\n",
       "   'desc': 'Automatic Data Processing, Inc. (ADP) is an American provider of human resources management software and services, headquartered in Roseland, New Jersey.',\n",
       "   'link': '#',\n",
       "   'recent': 0.0}},\n",
       " {'model': 'FDRReader.stock',\n",
       "  'pk': 9,\n",
       "  'fields': {'ticker': 'AES',\n",
       "   'name': 'AES Corporation',\n",
       "   'sector': 'Utilities',\n",
       "   'rating': 0,\n",
       "   'desc': \"The AES Corporation is an American utility and power generation company. It owns and operates power plants, which it uses to generate and sell electricity to end users and intermediaries like utilities and industrial facilities. AES is headquartered in Arlington, Virginia, and is one of the world's leading power companies, generating and distributing electric power in 15 countries and employing 10,500 people worldwide. AES Corporation is a global Fortune 500 power company. AES Ranks in the Top Ten of Fast Company's 2022 Best Workplaces for Innovators.\",\n",
       "   'link': '#',\n",
       "   'recent': 0.0}}]"
      ]
     },
     "execution_count": 6,
     "metadata": {},
     "output_type": "execute_result"
    }
   ],
   "source": [
    "stocks = []\n",
    "for d in data:\n",
    "    if d[\"model\"] == \"FDRReader.stock\":\n",
    "        stocks.append(d)\n",
    "\n",
    "    \n",
    "\n",
    "stocks[:10]"
   ]
  },
  {
   "cell_type": "code",
   "execution_count": 8,
   "id": "1a1bf524-9bf0-4c93-9ac7-75f763226339",
   "metadata": {
    "collapsed": false
   },
   "outputs": [
    {
     "data": {
      "text/plain": [
       "['Industrials',\n",
       " 'Health Care',\n",
       " 'Information Technology',\n",
       " 'Communication Services',\n",
       " 'Consumer Staples',\n",
       " 'Utilities',\n",
       " 'Financials',\n",
       " 'Materials',\n",
       " 'Real Estate',\n",
       " 'Consumer Discretionary',\n",
       " 'Energy']"
      ]
     },
     "execution_count": 8,
     "metadata": {},
     "output_type": "execute_result"
    }
   ],
   "source": [
    "unique = []\n",
    "for s in stocks:\n",
    "    if s[\"fields\"][\"sector\"] not in unique:\n",
    "        unique.append(s[\"fields\"][\"sector\"])\n",
    "\n",
    "unique"
   ]
  },
  {
   "cell_type": "code",
   "execution_count": null,
   "id": "78bce155-6773-4a4b-bc07-d1e1a8aec881",
   "metadata": {
    "collapsed": false
   },
   "outputs": [],
   "source": []
  }
 ],
 "metadata": {
  "kernelspec": {
   "argv": [
    "python",
    "-m",
    "ipykernel_launcher",
    "-f",
    "{connection_file}"
   ],
   "display_name": "Python 3 (ipykernel)",
   "env": null,
   "interrupt_mode": "signal",
   "language": "python",
   "metadata": {
    "debugger": true
   },
   "name": "python3"
  },
  "name": "Untitled2.ipynb"
 },
 "nbformat": 4,
 "nbformat_minor": 5
}
