{
 "cells": [
  {
   "cell_type": "code",
   "execution_count": 1,
   "id": "461782eb-ec08-4645-83be-dd688f47ef10",
   "metadata": {
    "collapsed": false
   },
   "outputs": [],
   "source": [
    "from selenium import webdriver\n",
    "from selenium.webdriver.common.by import By\n",
    "from selenium.common.exceptions import *"
   ]
  },
  {
   "cell_type": "code",
   "execution_count": 2,
   "id": "312c7786-5065-4309-bb07-f44ee5bfcaf5",
   "metadata": {
    "collapsed": false
   },
   "outputs": [
    {
     "name": "stdout",
     "output_type": "stream",
     "text": [
      "started\n"
     ]
    }
   ],
   "source": [
    "print(\"started\")\n",
    "url = \"https://en.wikipedia.org/wiki/List_of_S%26P_500_companies\"\n",
    "driver = webdriver.Firefox()\n",
    "driver.implicitly_wait(5)\n",
    "driver.get(url)"
   ]
  },
  {
   "cell_type": "code",
   "execution_count": 4,
   "id": "c48e4311-50aa-422f-a932-3a9672f62215",
   "metadata": {
    "collapsed": false
   },
   "outputs": [
    {
     "name": "stdout",
     "output_type": "stream",
     "text": [
      "Symbol Security GICS Sector GICS Sub-Industry Headquarters Location Date added CIK Founded\n",
      "MMM 3M Industrials Industrial Conglomerates Saint Paul, Minnesota 1957-03-04 0000066740 1902\n",
      "AOS A. O. Smith Industrials Building Products Milwaukee, Wisconsin 2017-07-26 0000091142 1916\n",
      "ABT Abbott Health Care Health Care Equipment North Chicago, Illinois 1957-03-04 0000001800 1888\n",
      "ABBV AbbVie Health Care Pharmaceuticals North Chicago, Illinois 2012-12-31 0001551152 2013 (1888)\n",
      "ACN Accenture Information Technology IT Consulting & Other Services Dublin, Ireland 2011-07-06 0001467373 1989\n",
      "ATVI Activision Blizzard Communication Services Interactive Home Entertainment Santa Monica, California 2015-08-31 0000718877 2008\n",
      "ADM ADM Consumer Staples Agricultural Products & Services Chicago, Illinois 1957-03-04 0000007084 1902\n",
      "ADBE Adobe Inc. Information Technology Application Software San Jose, California 1997-05-05 0000796343 1982\n",
      "ADP ADP Industrials Human Resource & Employment Services Roseland, New Jersey 1981-03-31 0000008670 1949\n"
     ]
    }
   ],
   "source": [
    "text_box = driver.find_element(by=By.ID, value=\"constituents\")\n",
    "inner_text = text_box.text\n",
    "\n",
    "split = inner_text.split(\"\\n\")\n",
    "for i in range(0, 10):\n",
    "    print(split[i])\n"
   ]
  },
  {
   "cell_type": "code",
   "execution_count": 5,
   "id": "27cfc4eb-0643-46f8-a52e-6e391e3aa9a7",
   "metadata": {
    "collapsed": false
   },
   "outputs": [
    {
     "data": {
      "text/plain": [
       "503"
      ]
     },
     "execution_count": 5,
     "metadata": {},
     "output_type": "execute_result"
    }
   ],
   "source": [
    "company_links = text_box.find_elements(by=By.XPATH, value=\".//tbody/tr[*]\")\n",
    "len(company_links)"
   ]
  },
  {
   "cell_type": "code",
   "execution_count": 6,
   "id": "0b4436c4-1554-4072-ab7e-5a079d76110b",
   "metadata": {
    "collapsed": false
   },
   "outputs": [
    {
     "name": "stdout",
     "output_type": "stream",
     "text": [
      "[{'ticker': 'AOS', 'name': 'A. O. Smith', 'url': 'https://en.wikipedia.org/wiki/A._O._Smith'}, {'ticker': 'ABT', 'name': 'Abbott', 'url': 'https://en.wikipedia.org/wiki/Abbott_Laboratories'}, {'ticker': 'ABBV', 'name': 'AbbVie', 'url': 'https://en.wikipedia.org/wiki/AbbVie'}, {'ticker': 'ACN', 'name': 'Accenture', 'url': 'https://en.wikipedia.org/wiki/Accenture'}, {'ticker': 'ATVI', 'name': 'Activision Blizzard', 'url': 'https://en.wikipedia.org/wiki/Activision_Blizzard'}, {'ticker': 'ADM', 'name': 'ADM', 'url': 'https://en.wikipedia.org/wiki/ADM_(company)'}, {'ticker': 'ADBE', 'name': 'Adobe Inc.', 'url': 'https://en.wikipedia.org/wiki/Adobe_Inc.'}, {'ticker': 'ADP', 'name': 'ADP', 'url': 'https://en.wikipedia.org/wiki/ADP_(company)'}, {'ticker': 'AES', 'name': 'AES Corporation', 'url': 'https://en.wikipedia.org/wiki/AES_Corporation'}, {'ticker': 'AFL', 'name': 'Aflac', 'url': 'https://en.wikipedia.org/wiki/Aflac'}]\n"
     ]
    }
   ],
   "source": [
    "links = []\n",
    "for item in company_links[1:]:\n",
    "    ticker = item.find_element(by=By.XPATH, value=\".//td[1]/a\").text\n",
    "    tmp = item.find_element(by=By.XPATH, value=\".//td[2]/a\")\n",
    "    name = tmp.text\n",
    "    url = tmp.get_attribute(\"href\")\n",
    "    links.append({\n",
    "        \"ticker\": ticker,\n",
    "        \"name\": name,\n",
    "        \"url\": url\n",
    "    })\n",
    "\n",
    "\n",
    "print(links[:10])    \n",
    "    "
   ]
  },
  {
   "cell_type": "code",
   "execution_count": 7,
   "id": "aa54ab7a-e53d-4327-b7a3-e88a06d5544b",
   "metadata": {
    "collapsed": false
   },
   "outputs": [
    {
     "data": {
      "text/plain": [
       "502"
      ]
     },
     "execution_count": 7,
     "metadata": {},
     "output_type": "execute_result"
    }
   ],
   "source": [
    "len(links)"
   ]
  },
  {
   "cell_type": "code",
   "execution_count": 51,
   "id": "cca55092-97c6-43fb-8efc-286a52d30e9a",
   "metadata": {
    "collapsed": false
   },
   "outputs": [
    {
     "name": "stdout",
     "output_type": "stream",
     "text": [
      "Activision Blizzard\n"
     ]
    },
    {
     "ename": "NoSuchElementException",
     "evalue": "Message: Unable to locate element: .//p[0]; For documentation on this error, please visit: https://www.selenium.dev/documentation/webdriver/troubleshooting/errors#no-such-element-exception\nStacktrace:\nRemoteError@chrome://remote/content/shared/RemoteError.sys.mjs:8:8\nWebDriverError@chrome://remote/content/shared/webdriver/Errors.sys.mjs:189:5\nNoSuchElementError@chrome://remote/content/shared/webdriver/Errors.sys.mjs:507:5\ndom.find/</<@chrome://remote/content/shared/DOM.sys.mjs:132:16\n",
     "output_type": "error",
     "traceback": [
      "\u001b[0;31m---------------------------------------------------------------------------\u001b[0m",
      "\u001b[0;31mNoSuchElementException\u001b[0m                    Traceback (most recent call last)",
      "Cell \u001b[0;32mIn[51], line 6\u001b[0m\n\u001b[1;32m      3\u001b[0m \u001b[38;5;66;03m#article = driver.find_element(by=By.ID, value=\"mw-content-text\")\u001b[39;00m\n\u001b[1;32m      5\u001b[0m article \u001b[38;5;241m=\u001b[39m driver\u001b[38;5;241m.\u001b[39mfind_element(by\u001b[38;5;241m=\u001b[39mBy\u001b[38;5;241m.\u001b[39mCLASS_NAME, value\u001b[38;5;241m=\u001b[39m\u001b[38;5;124m\"\u001b[39m\u001b[38;5;124mmw-parser-output\u001b[39m\u001b[38;5;124m\"\u001b[39m)\n\u001b[0;32m----> 6\u001b[0m element \u001b[38;5;241m=\u001b[39m \u001b[43marticle\u001b[49m\u001b[38;5;241;43m.\u001b[39;49m\u001b[43mfind_element\u001b[49m\u001b[43m(\u001b[49m\u001b[43mby\u001b[49m\u001b[38;5;241;43m=\u001b[39;49m\u001b[43mBy\u001b[49m\u001b[38;5;241;43m.\u001b[39;49m\u001b[43mXPATH\u001b[49m\u001b[43m,\u001b[49m\u001b[43m \u001b[49m\u001b[43mvalue\u001b[49m\u001b[38;5;241;43m=\u001b[39;49m\u001b[38;5;124;43m\"\u001b[39;49m\u001b[38;5;124;43m.//p[0]\u001b[39;49m\u001b[38;5;124;43m\"\u001b[39;49m\u001b[43m)\u001b[49m\n\u001b[1;32m      7\u001b[0m \u001b[38;5;28mprint\u001b[39m(element\u001b[38;5;241m.\u001b[39mtext)\n\u001b[1;32m     10\u001b[0m \u001b[38;5;66;03m# idx = 0\u001b[39;00m\n\u001b[1;32m     11\u001b[0m \u001b[38;5;66;03m# #article = driver.find_element(by=By.CLASS_NAME, value=\"mw-parser-output\")\u001b[39;00m\n\u001b[1;32m     12\u001b[0m \u001b[38;5;66;03m# while True:\u001b[39;00m\n\u001b[0;32m   (...)\u001b[0m\n\u001b[1;32m     32\u001b[0m \u001b[38;5;66;03m#article = article.find_element(by=By.XPATH, value=\".//p[1]\")\u001b[39;00m\n\u001b[1;32m     33\u001b[0m \u001b[38;5;66;03m#print(article.text)\u001b[39;00m\n",
      "File \u001b[0;32m~/Development/Python/Financier/FinancierCrawling/.venv/lib/python3.11/site-packages/selenium/webdriver/remote/webelement.py:416\u001b[0m, in \u001b[0;36mWebElement.find_element\u001b[0;34m(self, by, value)\u001b[0m\n\u001b[1;32m    413\u001b[0m     by \u001b[38;5;241m=\u001b[39m By\u001b[38;5;241m.\u001b[39mCSS_SELECTOR\n\u001b[1;32m    414\u001b[0m     value \u001b[38;5;241m=\u001b[39m \u001b[38;5;124mf\u001b[39m\u001b[38;5;124m'\u001b[39m\u001b[38;5;124m[name=\u001b[39m\u001b[38;5;124m\"\u001b[39m\u001b[38;5;132;01m{\u001b[39;00mvalue\u001b[38;5;132;01m}\u001b[39;00m\u001b[38;5;124m\"\u001b[39m\u001b[38;5;124m]\u001b[39m\u001b[38;5;124m'\u001b[39m\n\u001b[0;32m--> 416\u001b[0m \u001b[38;5;28;01mreturn\u001b[39;00m \u001b[38;5;28;43mself\u001b[39;49m\u001b[38;5;241;43m.\u001b[39;49m\u001b[43m_execute\u001b[49m\u001b[43m(\u001b[49m\u001b[43mCommand\u001b[49m\u001b[38;5;241;43m.\u001b[39;49m\u001b[43mFIND_CHILD_ELEMENT\u001b[49m\u001b[43m,\u001b[49m\u001b[43m \u001b[49m\u001b[43m{\u001b[49m\u001b[38;5;124;43m\"\u001b[39;49m\u001b[38;5;124;43musing\u001b[39;49m\u001b[38;5;124;43m\"\u001b[39;49m\u001b[43m:\u001b[49m\u001b[43m \u001b[49m\u001b[43mby\u001b[49m\u001b[43m,\u001b[49m\u001b[43m \u001b[49m\u001b[38;5;124;43m\"\u001b[39;49m\u001b[38;5;124;43mvalue\u001b[39;49m\u001b[38;5;124;43m\"\u001b[39;49m\u001b[43m:\u001b[49m\u001b[43m \u001b[49m\u001b[43mvalue\u001b[49m\u001b[43m}\u001b[49m\u001b[43m)\u001b[49m[\u001b[38;5;124m\"\u001b[39m\u001b[38;5;124mvalue\u001b[39m\u001b[38;5;124m\"\u001b[39m]\n",
      "File \u001b[0;32m~/Development/Python/Financier/FinancierCrawling/.venv/lib/python3.11/site-packages/selenium/webdriver/remote/webelement.py:394\u001b[0m, in \u001b[0;36mWebElement._execute\u001b[0;34m(self, command, params)\u001b[0m\n\u001b[1;32m    392\u001b[0m     params \u001b[38;5;241m=\u001b[39m {}\n\u001b[1;32m    393\u001b[0m params[\u001b[38;5;124m\"\u001b[39m\u001b[38;5;124mid\u001b[39m\u001b[38;5;124m\"\u001b[39m] \u001b[38;5;241m=\u001b[39m \u001b[38;5;28mself\u001b[39m\u001b[38;5;241m.\u001b[39m_id\n\u001b[0;32m--> 394\u001b[0m \u001b[38;5;28;01mreturn\u001b[39;00m \u001b[38;5;28;43mself\u001b[39;49m\u001b[38;5;241;43m.\u001b[39;49m\u001b[43m_parent\u001b[49m\u001b[38;5;241;43m.\u001b[39;49m\u001b[43mexecute\u001b[49m\u001b[43m(\u001b[49m\u001b[43mcommand\u001b[49m\u001b[43m,\u001b[49m\u001b[43m \u001b[49m\u001b[43mparams\u001b[49m\u001b[43m)\u001b[49m\n",
      "File \u001b[0;32m~/Development/Python/Financier/FinancierCrawling/.venv/lib/python3.11/site-packages/selenium/webdriver/remote/webdriver.py:344\u001b[0m, in \u001b[0;36mWebDriver.execute\u001b[0;34m(self, driver_command, params)\u001b[0m\n\u001b[1;32m    342\u001b[0m response \u001b[38;5;241m=\u001b[39m \u001b[38;5;28mself\u001b[39m\u001b[38;5;241m.\u001b[39mcommand_executor\u001b[38;5;241m.\u001b[39mexecute(driver_command, params)\n\u001b[1;32m    343\u001b[0m \u001b[38;5;28;01mif\u001b[39;00m response:\n\u001b[0;32m--> 344\u001b[0m     \u001b[38;5;28;43mself\u001b[39;49m\u001b[38;5;241;43m.\u001b[39;49m\u001b[43merror_handler\u001b[49m\u001b[38;5;241;43m.\u001b[39;49m\u001b[43mcheck_response\u001b[49m\u001b[43m(\u001b[49m\u001b[43mresponse\u001b[49m\u001b[43m)\u001b[49m\n\u001b[1;32m    345\u001b[0m     response[\u001b[38;5;124m\"\u001b[39m\u001b[38;5;124mvalue\u001b[39m\u001b[38;5;124m\"\u001b[39m] \u001b[38;5;241m=\u001b[39m \u001b[38;5;28mself\u001b[39m\u001b[38;5;241m.\u001b[39m_unwrap_value(response\u001b[38;5;241m.\u001b[39mget(\u001b[38;5;124m\"\u001b[39m\u001b[38;5;124mvalue\u001b[39m\u001b[38;5;124m\"\u001b[39m, \u001b[38;5;28;01mNone\u001b[39;00m))\n\u001b[1;32m    346\u001b[0m     \u001b[38;5;28;01mreturn\u001b[39;00m response\n",
      "File \u001b[0;32m~/Development/Python/Financier/FinancierCrawling/.venv/lib/python3.11/site-packages/selenium/webdriver/remote/errorhandler.py:229\u001b[0m, in \u001b[0;36mErrorHandler.check_response\u001b[0;34m(self, response)\u001b[0m\n\u001b[1;32m    227\u001b[0m         alert_text \u001b[38;5;241m=\u001b[39m value[\u001b[38;5;124m\"\u001b[39m\u001b[38;5;124malert\u001b[39m\u001b[38;5;124m\"\u001b[39m]\u001b[38;5;241m.\u001b[39mget(\u001b[38;5;124m\"\u001b[39m\u001b[38;5;124mtext\u001b[39m\u001b[38;5;124m\"\u001b[39m)\n\u001b[1;32m    228\u001b[0m     \u001b[38;5;28;01mraise\u001b[39;00m exception_class(message, screen, stacktrace, alert_text)  \u001b[38;5;66;03m# type: ignore[call-arg]  # mypy is not smart enough here\u001b[39;00m\n\u001b[0;32m--> 229\u001b[0m \u001b[38;5;28;01mraise\u001b[39;00m exception_class(message, screen, stacktrace)\n",
      "\u001b[0;31mNoSuchElementException\u001b[0m: Message: Unable to locate element: .//p[0]; For documentation on this error, please visit: https://www.selenium.dev/documentation/webdriver/troubleshooting/errors#no-such-element-exception\nStacktrace:\nRemoteError@chrome://remote/content/shared/RemoteError.sys.mjs:8:8\nWebDriverError@chrome://remote/content/shared/webdriver/Errors.sys.mjs:189:5\nNoSuchElementError@chrome://remote/content/shared/webdriver/Errors.sys.mjs:507:5\ndom.find/</<@chrome://remote/content/shared/DOM.sys.mjs:132:16\n"
     ]
    }
   ],
   "source": [
    "print(links[4][\"name\"])\n",
    "driver.get(links[4][\"url\"])\n",
    "#article = driver.find_element(by=By.ID, value=\"mw-content-text\")\n",
    "\n",
    "article = driver.find_element(by=By.CLASS_NAME, value=\"mw-parser-output\")\n",
    "element = driver.find_element(by=By.XPATH, value=\".//p[0]\")\n",
    "print(element.text)\n",
    "\n",
    "\n",
    "# idx = 0\n",
    "# #article = driver.find_element(by=By.CLASS_NAME, value=\"mw-parser-output\")\n",
    "# while True:\n",
    "#     article = driver.find_element(by=By.CLASS_NAME, value=\"mw-parser-output\")\n",
    "#     element = driver.find_element(by=By.XPATH, value=f\".//p[{idx}]\")\n",
    "#     print(element.text)\n",
    "#     if element.text == \"\":\n",
    "#         idx += 1\n",
    "#     else:\n",
    "#         break\n",
    "\n",
    "# print(element.text)\n",
    "\n",
    "# find = lambda i: driver.find_element(by=By.XPATH, value=f\".//p[{i}]\")\n",
    "# i, e = 0, find(i)\n",
    "# while e.text != \"\":\n",
    "#     print(e.text)\n",
    "#     i += 1\n",
    "#     e = find(i)\n",
    "\n",
    "# print(e.text)\n",
    "    \n",
    "#article = article.find_element(by=By.XPATH, value=\".//p[1]\")\n",
    "#print(article.text)"
   ]
  },
  {
   "cell_type": "code",
   "execution_count": 18,
   "id": "ce09d0e1-5b5c-4066-a07d-768d9581ca5b",
   "metadata": {
    "collapsed": false
   },
   "outputs": [
    {
     "name": "stdout",
     "output_type": "stream",
     "text": [
      "match!!\n"
     ]
    }
   ],
   "source": [
    "for l in links:\n",
    "    if l[\"ticker\"] != \"ATVI\":\n",
    "        continue\n",
    "\n",
    "    print(\"match!!\")\n",
    "    \n",
    "    driver.get(l[\"url\"])\n",
    "    article = driver.find_element(by=By.CLASS_NAME, value=\"mw-parser-output\")\n",
    "    try:\n",
    "        i = 1\n",
    "\n",
    "        \n",
    "        while True:\n",
    "            element = article.find_element(by=By.XPATH, value=f\".//p[{i}]\")\n",
    "            print(element.get_attribute('innerHTML'))\n",
    "            i += 1\n",
    "        \n",
    "        # txt = article.find_element(by=By.XPATH, value=f\".//p[{i}]\").text\n",
    "        # print(l[\"name\"], \"\\n\", txt)\n",
    "        \n",
    "        # l[\"desc\"] = txt\n",
    "    except:\n",
    "        break\n",
    "\n",
    "# for l in links[:10]:\n",
    "#     print(l)\n",
    "#     print(\"\\n\")\n"
   ]
  },
  {
   "cell_type": "code",
   "execution_count": 1,
   "id": "08b877f7-2a90-4cdf-b31d-82a7fd2c5bdb",
   "metadata": {
    "collapsed": false
   },
   "outputs": [],
   "source": [
    "import json\n",
    "\n",
    "# JSON file\n",
    "info = open ('company-info.json', \"r\")\n",
    "export = open ('stock-export.json', \"r\")\n",
    "\n",
    "# Reading from file\n",
    "info_data = json.loads(info.read())\n",
    "export_data = json.loads(export.read())\n",
    "\n",
    "\n",
    "    # # Serializing json\n",
    "  # json_object = json.dumps(dictionary, indent=4)\n",
    "\n",
    "  # # Writing to sample.json\n",
    "  # with open(\"sample.json\", \"w\") as outfile:\n",
    "  #     outfile.write(json_object)"
   ]
  },
  {
   "cell_type": "code",
   "execution_count": 5,
   "id": "bd9eb193-b122-4e77-a73e-38f18349d3ae",
   "metadata": {
    "collapsed": false
   },
   "outputs": [],
   "source": [
    "import re\n",
    "\n",
    "info_dict = {i[\"ticker\"]:i for i in info_data}\n",
    "\n",
    "for stock in export_data:\n",
    "    ticker = stock[\"fields\"][\"ticker\"]\n",
    "    if (info_val := info_dict.get(ticker)):\n",
    "        desc = re.sub(\"\\[(.*?)\\]\", \"\", info_val[\"desc\"])\n",
    "        stock[\"fields\"][\"desc\"] = desc\n",
    "    else:\n",
    "        stock[\"fields\"][\"desc\"] = \"No information.\""
   ]
  },
  {
   "cell_type": "code",
   "execution_count": 6,
   "id": "b4ec2591-8382-4250-97cb-cf7372cedbbd",
   "metadata": {
    "collapsed": false
   },
   "outputs": [
    {
     "name": "stdout",
     "output_type": "stream",
     "text": [
      "[{'model': 'FDRReader.stock', 'pk': 0, 'fields': {'ticker': 'MMM', 'name': '3M', 'sector': 'Industrials', 'rating': 0, 'desc': 'No information.'}}, {'model': 'FDRReader.stock', 'pk': 1, 'fields': {'ticker': 'AOS', 'name': 'A. O. Smith', 'sector': 'Industrials', 'rating': 0, 'desc': 'A. O. Smith Corporation is an American manufacturer of both residential and commercial water heaters and boilers, and the largest manufacturer and marketer of water heaters in North America. It also supplies water treatment and water purification products in the Asian market. The company has 27 locations worldwide, including five manufacturing facilities in North America, as well as plants in Bengaluru in India, Nanjing in China and Veldhoven in The Netherlands.'}}, {'model': 'FDRReader.stock', 'pk': 2, 'fields': {'ticker': 'ABT', 'name': 'Abbott', 'sector': 'Health Care', 'rating': 0, 'desc': 'Abbott Laboratories is an American multinational medical devices and health care company with headquarters in Abbott Park, Illinois, United States. The company was founded by Chicago physician Wallace Calvin Abbott in 1888 to formulate known drugs; today, it sells medical devices, diagnostics, branded generic medicines and nutritional products. It split off its research-based pharmaceuticals business into AbbVie in 2013.'}}, {'model': 'FDRReader.stock', 'pk': 3, 'fields': {'ticker': 'ABBV', 'name': 'AbbVie', 'sector': 'Health Care', 'rating': 0, 'desc': \"AbbVie Inc. is an American pharmaceutical company headquartered in North Chicago, Illinois. It is ranked 6th on the list of largest biomedical companies by revenue. The company's primary product is Humira (adalimumab) ($21 billion in 2022 revenues, 37% of total), administered via injection. It is approved to treat autoimmune diseases including rheumatoid arthritis, Crohn's disease, plaque psoriasis, and ulcerative colitis.\"}}, {'model': 'FDRReader.stock', 'pk': 4, 'fields': {'ticker': 'ACN', 'name': 'Accenture', 'sector': 'Information Technology', 'rating': 0, 'desc': \"Accenture plc is an Irish-American professional services company based in Dublin, specializing in information technology (IT) services and consulting. A Fortune Global 500 company, it reported revenues of $61.6 billion in 2022. Accenture's current clients include 91 of the Fortune Global 100 and more than three-quarters of the Fortune Global 500. As of 2022, Accenture is considered the largest consulting firm in the world by number of employees.\"}}]\n"
     ]
    }
   ],
   "source": [
    "print(export_data[:5])"
   ]
  },
  {
   "cell_type": "code",
   "execution_count": null,
   "id": "a7d7f291-2dba-48ff-b606-ca65361a7427",
   "metadata": {
    "collapsed": false
   },
   "outputs": [],
   "source": [
    "\n",
    "\n",
    "for stock in "
   ]
  }
 ],
 "metadata": {
  "kernelspec": {
   "argv": [
    "/home/dks/Development/Python/Financier/FinancierCrawling/.venv/bin/python",
    "-m",
    "ipykernel_launcher",
    "-f",
    "{connection_file}"
   ],
   "display_name": "financiercrawling",
   "env": null,
   "interrupt_mode": "signal",
   "language": "python",
   "metadata": {
    "debugger": true
   },
   "name": "financiercrawling"
  },
  "name": "company-info-crawl.ipynb"
 },
 "nbformat": 4,
 "nbformat_minor": 5
}
