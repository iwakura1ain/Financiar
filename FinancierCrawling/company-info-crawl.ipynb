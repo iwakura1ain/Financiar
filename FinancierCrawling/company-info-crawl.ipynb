{
 "cells": [
  {
   "cell_type": "code",
   "execution_count": 2,
   "id": "461782eb-ec08-4645-83be-dd688f47ef10",
   "metadata": {
    "collapsed": false
   },
   "outputs": [],
   "source": [
    "from selenium import webdriver\n",
    "from selenium.webdriver.common.by import By\n",
    "from selenium.common.exceptions import *"
   ]
  },
  {
   "cell_type": "code",
   "execution_count": 3,
   "id": "312c7786-5065-4309-bb07-f44ee5bfcaf5",
   "metadata": {
    "collapsed": false
   },
   "outputs": [
    {
     "name": "stdout",
     "output_type": "stream",
     "text": [
      "started\n"
     ]
    }
   ],
   "source": [
    "print(\"started\")\n",
    "url = \"https://en.wikipedia.org/wiki/List_of_S%26P_500_companies\"\n",
    "driver = webdriver.Firefox()\n",
    "driver.implicitly_wait(5)\n",
    "driver.get(url)"
   ]
  },
  {
   "cell_type": "code",
   "execution_count": 4,
   "id": "c48e4311-50aa-422f-a932-3a9672f62215",
   "metadata": {
    "collapsed": false
   },
   "outputs": [
    {
     "name": "stdout",
     "output_type": "stream",
     "text": [
      "Symbol Security GICS Sector GICS Sub-Industry Headquarters Location Date added CIK Founded\n",
      "MMM 3M Industrials Industrial Conglomerates Saint Paul, Minnesota 1957-03-04 0000066740 1902\n",
      "AOS A. O. Smith Industrials Building Products Milwaukee, Wisconsin 2017-07-26 0000091142 1916\n",
      "ABT Abbott Health Care Health Care Equipment North Chicago, Illinois 1957-03-04 0000001800 1888\n",
      "ABBV AbbVie Health Care Pharmaceuticals North Chicago, Illinois 2012-12-31 0001551152 2013 (1888)\n",
      "ACN Accenture Information Technology IT Consulting & Other Services Dublin, Ireland 2011-07-06 0001467373 1989\n",
      "ATVI Activision Blizzard Communication Services Interactive Home Entertainment Santa Monica, California 2015-08-31 0000718877 2008\n",
      "ADM ADM Consumer Staples Agricultural Products & Services Chicago, Illinois 1957-03-04 0000007084 1902\n",
      "ADBE Adobe Inc. Information Technology Application Software San Jose, California 1997-05-05 0000796343 1982\n",
      "ADP ADP Industrials Human Resource & Employment Services Roseland, New Jersey 1981-03-31 0000008670 1949\n"
     ]
    }
   ],
   "source": [
    "text_box = driver.find_element(by=By.ID, value=\"constituents\")\n",
    "inner_text = text_box.text\n",
    "\n",
    "split = inner_text.split(\"\\n\")\n",
    "for i in range(0, 10):\n",
    "    print(split[i])\n"
   ]
  },
  {
   "cell_type": "code",
   "execution_count": 5,
   "id": "27cfc4eb-0643-46f8-a52e-6e391e3aa9a7",
   "metadata": {
    "collapsed": false
   },
   "outputs": [
    {
     "data": {
      "text/plain": [
       "503"
      ]
     },
     "execution_count": 5,
     "metadata": {},
     "output_type": "execute_result"
    }
   ],
   "source": [
    "company_links = text_box.find_elements(by=By.XPATH, value=\".//tbody/tr[*]\")\n",
    "len(company_links)"
   ]
  },
  {
   "cell_type": "code",
   "execution_count": 6,
   "id": "0b4436c4-1554-4072-ab7e-5a079d76110b",
   "metadata": {
    "collapsed": false
   },
   "outputs": [
    {
     "name": "stdout",
     "output_type": "stream",
     "text": [
      "[{'ticker': 'AOS', 'name': 'A. O. Smith', 'url': 'https://en.wikipedia.org/wiki/A._O._Smith'}, {'ticker': 'ABT', 'name': 'Abbott', 'url': 'https://en.wikipedia.org/wiki/Abbott_Laboratories'}, {'ticker': 'ABBV', 'name': 'AbbVie', 'url': 'https://en.wikipedia.org/wiki/AbbVie'}, {'ticker': 'ACN', 'name': 'Accenture', 'url': 'https://en.wikipedia.org/wiki/Accenture'}, {'ticker': 'ATVI', 'name': 'Activision Blizzard', 'url': 'https://en.wikipedia.org/wiki/Activision_Blizzard'}, {'ticker': 'ADM', 'name': 'ADM', 'url': 'https://en.wikipedia.org/wiki/ADM_(company)'}, {'ticker': 'ADBE', 'name': 'Adobe Inc.', 'url': 'https://en.wikipedia.org/wiki/Adobe_Inc.'}, {'ticker': 'ADP', 'name': 'ADP', 'url': 'https://en.wikipedia.org/wiki/ADP_(company)'}, {'ticker': 'AES', 'name': 'AES Corporation', 'url': 'https://en.wikipedia.org/wiki/AES_Corporation'}, {'ticker': 'AFL', 'name': 'Aflac', 'url': 'https://en.wikipedia.org/wiki/Aflac'}]\n"
     ]
    }
   ],
   "source": [
    "links = []\n",
    "for item in company_links[1:]:\n",
    "    ticker = item.find_element(by=By.XPATH, value=\".//td[1]/a\").text\n",
    "    tmp = item.find_element(by=By.XPATH, value=\".//td[2]/a\")\n",
    "    name = tmp.text\n",
    "    url = tmp.get_attribute(\"href\")\n",
    "    links.append({\n",
    "        \"ticker\": ticker,\n",
    "        \"name\": name,\n",
    "        \"url\": url\n",
    "    })\n",
    "\n",
    "\n",
    "print(links[:10])    \n",
    "    "
   ]
  },
  {
   "cell_type": "code",
   "execution_count": 7,
   "id": "cca55092-97c6-43fb-8efc-286a52d30e9a",
   "metadata": {
    "collapsed": false
   },
   "outputs": [
    {
     "name": "stdout",
     "output_type": "stream",
     "text": [
      "A. O. Smith Corporation is an American manufacturer of both residential and commercial water heaters and boilers, and the largest manufacturer and marketer of water heaters in North America. It also supplies water treatment and water purification products in the Asian market.[6] The company has 27 locations worldwide, including five manufacturing facilities in North America, as well as plants in Bengaluru in India, Nanjing in China and Veldhoven in The Netherlands.[7]\n"
     ]
    }
   ],
   "source": [
    "driver.get(links[0][\"url\"])\n",
    "article = driver.find_element(by=By.CLASS_NAME, value=\"mw-parser-output\")\n",
    "article = article.find_element(by=By.XPATH, value=\".//p[1]\")\n",
    "print(article.text)"
   ]
  },
  {
   "cell_type": "code",
   "execution_count": 18,
   "id": "ce09d0e1-5b5c-4066-a07d-768d9581ca5b",
   "metadata": {
    "collapsed": false
   },
   "outputs": [
    {
     "name": "stdout",
     "output_type": "stream",
     "text": [
      "match!!\n"
     ]
    }
   ],
   "source": [
    "for l in links[:10]:\n",
    "    if l[\"ticker\"] != \"ATVI\":\n",
    "        continue\n",
    "\n",
    "    print(\"match!!\")\n",
    "    \n",
    "    driver.get(l[\"url\"])\n",
    "    article = driver.find_element(by=By.CLASS_NAME, value=\"mw-parser-output\")\n",
    "    try:\n",
    "        i = 1\n",
    "\n",
    "        \n",
    "        while True:\n",
    "            element = article.find_element(by=By.XPATH, value=f\".//p[{i}]\")\n",
    "            print(element.get_attribute('innerHTML'))\n",
    "            i += 1\n",
    "        \n",
    "        # txt = article.find_element(by=By.XPATH, value=f\".//p[{i}]\").text\n",
    "        # print(l[\"name\"], \"\\n\", txt)\n",
    "        \n",
    "        # l[\"desc\"] = txt\n",
    "    except:\n",
    "        break\n",
    "\n",
    "# for l in links[:10]:\n",
    "#     print(l)\n",
    "#     print(\"\\n\")\n"
   ]
  },
  {
   "cell_type": "code",
   "execution_count": null,
   "id": "08b877f7-2a90-4cdf-b31d-82a7fd2c5bdb",
   "metadata": {
    "collapsed": false
   },
   "outputs": [],
   "source": []
  }
 ],
 "metadata": {
  "kernelspec": {
   "argv": [
    "/home/dks/Development/Python/Financier/FinancierCrawling/.venv/bin/python",
    "-m",
    "ipykernel_launcher",
    "-f",
    "{connection_file}"
   ],
   "display_name": "financiercrawling",
   "env": null,
   "interrupt_mode": "signal",
   "language": "python",
   "metadata": {
    "debugger": true
   },
   "name": "financiercrawling"
  },
  "name": "company-info-crawl.ipynb"
 },
 "nbformat": 4,
 "nbformat_minor": 5
}
