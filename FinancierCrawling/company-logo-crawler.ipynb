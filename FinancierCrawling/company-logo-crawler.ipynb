{
 "cells": [
  {
   "cell_type": "code",
   "execution_count": 2,
   "id": "52b822d6-8a8a-4e4c-837e-7c58173727fc",
   "metadata": {
    "collapsed": false
   },
   "outputs": [],
   "source": [
    "from selenium import webdriver\n",
    "from selenium.webdriver.common.by import By\n",
    "from selenium.common.exceptions import *"
   ]
  },
  {
   "cell_type": "code",
   "execution_count": 3,
   "id": "b3ec2e22-8b54-413c-8276-f673c51290a8",
   "metadata": {
    "collapsed": false
   },
   "outputs": [
    {
     "name": "stdout",
     "output_type": "stream",
     "text": [
      "started\n"
     ]
    }
   ],
   "source": [
    "print(\"started\")\n",
    "url = \"https://worldvectorlogo.com/\"\n",
    "driver = webdriver.Firefox()\n",
    "driver.implicitly_wait(10)\n",
    "driver.get(url)"
   ]
  },
  {
   "cell_type": "code",
   "execution_count": 5,
   "id": "7bdbe7c7-8858-49f4-b5d4-b8beb9652a54",
   "metadata": {
    "collapsed": false
   },
   "outputs": [],
   "source": [
    "import json\n",
    "\n",
    "f = open ('stock-export.json', \"r\")\n",
    "# Reading from file\n",
    "data = json.loads(f.read())\n",
    "\n",
    "names = []\n",
    "# Iterating through the json list\n",
    "for i in data:\n",
    "    names.append(i['fields'][\"name\"])\n",
    "    "
   ]
  },
  {
   "cell_type": "code",
   "execution_count": 6,
   "id": "db4ce3b6-b323-4eb2-9467-dd2bf7f90378",
   "metadata": {
    "collapsed": false
   },
   "outputs": [
    {
     "data": {
      "text/plain": [
       "['3M',\n",
       " 'A. O. Smith',\n",
       " 'Abbott',\n",
       " 'AbbVie',\n",
       " 'Accenture',\n",
       " 'Activision Blizzard',\n",
       " 'ADM',\n",
       " 'Adobe Inc.',\n",
       " 'ADP',\n",
       " 'AES Corporation']"
      ]
     },
     "execution_count": 6,
     "metadata": {},
     "output_type": "execute_result"
    }
   ],
   "source": [
    "names[:10]"
   ]
  },
  {
   "cell_type": "code",
   "execution_count": 32,
   "id": "6872665b-f1b7-400c-aefd-5e3ed1830eff",
   "metadata": {
    "collapsed": false
   },
   "outputs": [
    {
     "data": {
      "text/plain": [
       "'For example: Facebook, Tesla or Coca Cola'"
      ]
     },
     "execution_count": 32,
     "metadata": {},
     "output_type": "execute_result"
    }
   ],
   "source": [
    "search_section = driver.find_element(by=By.CLASS_NAME, value=\"search\")\n",
    "search_form = driver.find_element(by=By.XPATH, value=\".//form/div/div/div/input\")\n",
    "search_form.get_attribute(\"placeholder\")"
   ]
  },
  {
   "cell_type": "code",
   "execution_count": 33,
   "id": "052789e7-64de-42cc-873a-0cf3dc6b5ebd",
   "metadata": {
    "collapsed": false
   },
   "outputs": [],
   "source": [
    "search_form.send_keys(names[0])\n",
    "search_form.submit()\n",
    "\n",
    "    "
   ]
  },
  {
   "cell_type": "code",
   "execution_count": 22,
   "id": "7f6c778d-6378-463c-97bb-cf47e6b39a61",
   "metadata": {
    "collapsed": false
   },
   "outputs": [
    {
     "name": "stdout",
     "output_type": "stream",
     "text": [
      "3M\n"
     ]
    }
   ],
   "source": [
    "print(names[0])"
   ]
  },
  {
   "cell_type": "code",
   "execution_count": 37,
   "id": "2ede8937-85ae-4c1f-9680-dd87ab6b606c",
   "metadata": {
    "collapsed": false
   },
   "outputs": [],
   "source": [
    "logos_div = driver.find_element(by=By.CLASS_NAME, value=\"logos\")\n",
    "logo1 = logos_div.find_element(by=By.XPATH, value=\".//div/div/a/div/div/img\")\n",
    "logo1_url = logo1.get_attribute(\"src\")"
   ]
  },
  {
   "cell_type": "code",
   "execution_count": 38,
   "id": "289c7d11-73c3-41e5-96b8-6c486fb1dadd",
   "metadata": {
    "collapsed": false
   },
   "outputs": [
    {
     "data": {
      "text/plain": [
       "'https://cdn.worldvectorlogo.com/logos/3m-2.svg'"
      ]
     },
     "execution_count": 38,
     "metadata": {},
     "output_type": "execute_result"
    }
   ],
   "source": [
    "logo1_url"
   ]
  },
  {
   "cell_type": "code",
   "execution_count": 40,
   "id": "26a99863-2551-4462-b718-a5bfae691090",
   "metadata": {
    "collapsed": false
   },
   "outputs": [],
   "source": [
    "import requests\n",
    "import shutil\n"
   ]
  },
  {
   "cell_type": "code",
   "execution_count": 42,
   "id": "fbd668e3-9b23-4157-ac2c-760e4230683e",
   "metadata": {
    "collapsed": false
   },
   "outputs": [],
   "source": [
    "r = requests.get(logo1_url, stream=True)\n",
    "if r.status_code == 200:\n",
    "    with open(\"./logos/test1.svg\", 'wb') as f:\n",
    "        r.raw.decode_content = True\n",
    "        shutil.copyfileobj(r.raw, f)   "
   ]
  },
  {
   "cell_type": "code",
   "execution_count": 7,
   "id": "c7f75fa0-c8b6-49a5-8391-a8bde874fc73",
   "metadata": {
    "collapsed": false
   },
   "outputs": [
    {
     "name": "stdout",
     "output_type": "stream",
     "text": [
      "scrapping  3M\n",
      "found search form\n",
      "waiting for load\n"
     ]
    },
    {
     "name": "stdout",
     "output_type": "stream",
     "text": [
      "page loaded\n",
      "appended  https://cdn.worldvectorlogo.com/logos/3m-2.svg\n",
      "scrapping  A. O. Smith\n",
      "found search form\n",
      "waiting for load\n"
     ]
    },
    {
     "name": "stdout",
     "output_type": "stream",
     "text": [
      "page loaded\n",
      "appended  https://cdn.worldvectorlogo.com/logos/a-o-smith-corporation.svg\n",
      "scrapping  Abbott\n",
      "found search form\n",
      "waiting for load\n"
     ]
    },
    {
     "name": "stdout",
     "output_type": "stream",
     "text": [
      "page loaded\n",
      "appended  https://cdn.worldvectorlogo.com/logos/abbott.svg\n",
      "scrapping  AbbVie\n",
      "found search form\n",
      "waiting for load\n"
     ]
    },
    {
     "name": "stdout",
     "output_type": "stream",
     "text": [
      "page loaded\n",
      "appended  https://cdn.worldvectorlogo.com/logos/abbvie-logo.svg\n",
      "scrapping  Accenture\n",
      "found search form\n",
      "waiting for load\n"
     ]
    },
    {
     "name": "stdout",
     "output_type": "stream",
     "text": [
      "page loaded\n",
      "appended  https://cdn.worldvectorlogo.com/logos/accenture-2.svg\n",
      "scrapping  Activision Blizzard\n",
      "found search form\n",
      "waiting for load\n"
     ]
    },
    {
     "name": "stdout",
     "output_type": "stream",
     "text": [
      "page loaded\n",
      "appended  https://cdn.worldvectorlogo.com/logos/activision.svg\n",
      "scrapping  ADM\n",
      "found search form\n",
      "waiting for load\n"
     ]
    },
    {
     "name": "stdout",
     "output_type": "stream",
     "text": [
      "page loaded\n",
      "appended  https://cdn.worldvectorlogo.com/logos/adm.svg\n",
      "scrapping  Adobe Inc.\n",
      "found search form\n",
      "waiting for load\n"
     ]
    },
    {
     "name": "stdout",
     "output_type": "stream",
     "text": [
      "page loaded\n",
      "appended  https://cdn.worldvectorlogo.com/logos/adobe-2.svg\n",
      "scrapping  ADP\n",
      "found search form\n",
      "waiting for load\n"
     ]
    },
    {
     "name": "stdout",
     "output_type": "stream",
     "text": [
      "page loaded\n",
      "appended  https://cdn.worldvectorlogo.com/logos/adp-1.svg\n",
      "scrapping  AES Corporation\n",
      "found search form\n",
      "waiting for load\n"
     ]
    },
    {
     "name": "stdout",
     "output_type": "stream",
     "text": [
      "page loaded\n",
      "appended  https://cdn.worldvectorlogo.com/logos/aes.svg\n",
      "scrapping  Aflac\n",
      "found search form\n",
      "waiting for load\n"
     ]
    },
    {
     "name": "stdout",
     "output_type": "stream",
     "text": [
      "page loaded\n",
      "appended  https://cdn.worldvectorlogo.com/logos/aflac.svg\n",
      "scrapping  Agilent Technologies\n",
      "found search form\n",
      "waiting for load\n"
     ]
    },
    {
     "name": "stdout",
     "output_type": "stream",
     "text": [
      "page loaded\n",
      "appended  https://cdn.worldvectorlogo.com/logos/agilent-technologies.svg\n",
      "scrapping  Air Products and Chemicals\n",
      "found search form\n",
      "waiting for load\n"
     ]
    },
    {
     "name": "stdout",
     "output_type": "stream",
     "text": [
      "page loaded\n",
      "appended  https://cdn.worldvectorlogo.com/logos/air-products-and-chemicals.svg\n",
      "scrapping  Akamai\n",
      "found search form\n",
      "waiting for load\n"
     ]
    },
    {
     "name": "stdout",
     "output_type": "stream",
     "text": [
      "page loaded\n",
      "appended  https://cdn.worldvectorlogo.com/logos/akamai-4.svg\n",
      "scrapping  Alaska Air Group\n",
      "found search form\n",
      "waiting for load\n"
     ]
    },
    {
     "name": "stdout",
     "output_type": "stream",
     "text": [
      "page loaded\n",
      "appended  https://cdn.worldvectorlogo.com/logos/alaska-air-group.svg\n",
      "scrapping  Albemarle Corporation\n",
      "found search form\n",
      "waiting for load\n"
     ]
    },
    {
     "name": "stdout",
     "output_type": "stream",
     "text": [
      "page loaded\n",
      "appended  https://cdn.worldvectorlogo.com/logos/albemarle.svg\n",
      "scrapping  Alexandria Real Estate Equities\n",
      "found search form\n",
      "waiting for load\n"
     ]
    },
    {
     "name": "stdout",
     "output_type": "stream",
     "text": [
      "page loaded\n",
      "appended  https://cdn.worldvectorlogo.com/logos/keller-williams-real-estate.svg\n",
      "scrapping  Align Technology\n",
      "found search form\n",
      "waiting for load\n"
     ]
    },
    {
     "name": "stdout",
     "output_type": "stream",
     "text": [
      "page loaded\n",
      "appended  https://cdn.worldvectorlogo.com/logos/citac-align.svg\n",
      "scrapping  Allegion\n",
      "found search form\n",
      "waiting for load\n"
     ]
    },
    {
     "name": "stdout",
     "output_type": "stream",
     "text": [
      "page loaded\n",
      "appended  https://cdn.worldvectorlogo.com/logos/allegion.svg\n",
      "scrapping  Alliant Energy\n",
      "found search form\n",
      "waiting for load\n"
     ]
    },
    {
     "name": "stdout",
     "output_type": "stream",
     "text": [
      "page loaded\n",
      "appended  https://cdn.worldvectorlogo.com/logos/alliant-energy.svg\n",
      "scrapping  Allstate\n",
      "found search form\n",
      "waiting for load\n"
     ]
    },
    {
     "name": "stdout",
     "output_type": "stream",
     "text": [
      "page loaded\n",
      "appended  https://cdn.worldvectorlogo.com/logos/allstate.svg\n",
      "scrapping  Alphabet Inc. (Class A)\n",
      "found search form\n",
      "waiting for load\n"
     ]
    },
    {
     "name": "stdout",
     "output_type": "stream",
     "text": [
      "page loaded\n",
      "appended  https://cdn.worldvectorlogo.com/logos/alphabet.svg\n",
      "scrapping  Alphabet Inc. (Class C)\n",
      "found search form\n",
      "waiting for load\n"
     ]
    },
    {
     "name": "stdout",
     "output_type": "stream",
     "text": [
      "page loaded\n",
      "appended  https://cdn.worldvectorlogo.com/logos/alphabet.svg\n",
      "scrapping  Altria\n",
      "found search form\n",
      "waiting for load\n"
     ]
    },
    {
     "name": "stdout",
     "output_type": "stream",
     "text": [
      "page loaded\n",
      "appended  https://cdn.worldvectorlogo.com/logos/altria-group.svg\n",
      "scrapping  Amazon\n",
      "found search form\n",
      "waiting for load\n"
     ]
    },
    {
     "name": "stdout",
     "output_type": "stream",
     "text": [
      "page loaded\n",
      "appended  https://cdn.worldvectorlogo.com/logos/amazon-2.svg\n",
      "scrapping  Amcor\n",
      "found search form\n",
      "waiting for load\n"
     ]
    },
    {
     "name": "stdout",
     "output_type": "stream",
     "text": [
      "page loaded\n",
      "appended  https://cdn.worldvectorlogo.com/logos/amcor.svg\n",
      "scrapping  AMD\n",
      "found search form\n",
      "waiting for load\n"
     ]
    },
    {
     "name": "stdout",
     "output_type": "stream",
     "text": [
      "page loaded\n",
      "appended  https://cdn.worldvectorlogo.com/logos/amd-ryzen-1.svg\n",
      "scrapping  Ameren\n",
      "found search form\n",
      "waiting for load\n"
     ]
    },
    {
     "name": "stdout",
     "output_type": "stream",
     "text": [
      "page loaded\n",
      "appended  https://cdn.worldvectorlogo.com/logos/ameren.svg\n",
      "scrapping  American Airlines Group\n",
      "found search form\n",
      "waiting for load\n"
     ]
    },
    {
     "name": "stdout",
     "output_type": "stream",
     "text": [
      "page loaded\n",
      "appended  https://cdn.worldvectorlogo.com/logos/american-airlines-4.svg\n",
      "scrapping  American Electric Power\n",
      "found search form\n",
      "waiting for load\n"
     ]
    },
    {
     "name": "stdout",
     "output_type": "stream",
     "text": [
      "page loaded\n",
      "appended  https://cdn.worldvectorlogo.com/logos/kepco-logo-ko-en.svg\n",
      "scrapping  American Express\n",
      "found search form\n",
      "waiting for load\n"
     ]
    },
    {
     "name": "stdout",
     "output_type": "stream",
     "text": [
      "page loaded\n",
      "appended  https://cdn.worldvectorlogo.com/logos/american-express-1.svg\n",
      "scrapping  American International Group\n",
      "found search form\n",
      "waiting for load\n"
     ]
    },
    {
     "name": "stdout",
     "output_type": "stream",
     "text": [
      "page loaded\n",
      "appended  https://cdn.worldvectorlogo.com/logos/american-international.svg\n",
      "scrapping  American Tower\n",
      "found search form\n",
      "waiting for load\n"
     ]
    },
    {
     "name": "stdout",
     "output_type": "stream",
     "text": [
      "page loaded\n",
      "appended  https://cdn.worldvectorlogo.com/logos/american-tower.svg\n",
      "scrapping  American Water Works\n",
      "found search form\n",
      "waiting for load\n"
     ]
    },
    {
     "name": "stdout",
     "output_type": "stream",
     "text": [
      "page loaded\n",
      "appended  https://cdn.worldvectorlogo.com/logos/american-water-works.svg\n",
      "scrapping  Ameriprise Financial\n",
      "found search form\n",
      "waiting for load\n"
     ]
    },
    {
     "name": "stdout",
     "output_type": "stream",
     "text": [
      "page loaded\n",
      "appended  https://cdn.worldvectorlogo.com/logos/chrysler-financial.svg\n",
      "scrapping  Ametek\n",
      "found search form\n",
      "waiting for load\n"
     ]
    },
    {
     "name": "stdout",
     "output_type": "stream",
     "text": [
      "page loaded\n",
      "appended  https://cdn.worldvectorlogo.com/logos/ametek.svg\n",
      "scrapping  Amgen\n",
      "found search form\n",
      "waiting for load\n"
     ]
    },
    {
     "name": "stdout",
     "output_type": "stream",
     "text": [
      "page loaded\n",
      "appended  https://cdn.worldvectorlogo.com/logos/amgen.svg\n",
      "scrapping  Amphenol\n",
      "found search form\n",
      "waiting for load\n"
     ]
    },
    {
     "name": "stdout",
     "output_type": "stream",
     "text": [
      "page loaded\n"
     ]
    },
    {
     "ename": "NoSuchElementException",
     "evalue": "Message: Unable to locate element: .//div/div/a/div/div/img; For documentation on this error, please visit: https://www.selenium.dev/documentation/webdriver/troubleshooting/errors#no-such-element-exception\nStacktrace:\nRemoteError@chrome://remote/content/shared/RemoteError.sys.mjs:8:8\nWebDriverError@chrome://remote/content/shared/webdriver/Errors.sys.mjs:189:5\nNoSuchElementError@chrome://remote/content/shared/webdriver/Errors.sys.mjs:507:5\ndom.find/</<@chrome://remote/content/shared/DOM.sys.mjs:132:16\n",
     "output_type": "error",
     "traceback": [
      "\u001b[0;31m---------------------------------------------------------------------------\u001b[0m",
      "\u001b[0;31mNoSuchElementException\u001b[0m                    Traceback (most recent call last)",
      "Cell \u001b[0;32mIn[7], line 34\u001b[0m\n\u001b[1;32m     31\u001b[0m \u001b[38;5;28mprint\u001b[39m(\u001b[38;5;124m\"\u001b[39m\u001b[38;5;124mpage loaded\u001b[39m\u001b[38;5;124m\"\u001b[39m)\n\u001b[1;32m     33\u001b[0m logos_div \u001b[38;5;241m=\u001b[39m driver\u001b[38;5;241m.\u001b[39mfind_element(by\u001b[38;5;241m=\u001b[39mBy\u001b[38;5;241m.\u001b[39mCLASS_NAME, value\u001b[38;5;241m=\u001b[39m\u001b[38;5;124m\"\u001b[39m\u001b[38;5;124mlogos\u001b[39m\u001b[38;5;124m\"\u001b[39m)\n\u001b[0;32m---> 34\u001b[0m logo \u001b[38;5;241m=\u001b[39m \u001b[43mlogos_div\u001b[49m\u001b[38;5;241;43m.\u001b[39;49m\u001b[43mfind_element\u001b[49m\u001b[43m(\u001b[49m\u001b[43mby\u001b[49m\u001b[38;5;241;43m=\u001b[39;49m\u001b[43mBy\u001b[49m\u001b[38;5;241;43m.\u001b[39;49m\u001b[43mXPATH\u001b[49m\u001b[43m,\u001b[49m\u001b[43m \u001b[49m\u001b[43mvalue\u001b[49m\u001b[38;5;241;43m=\u001b[39;49m\u001b[38;5;124;43m\"\u001b[39;49m\u001b[38;5;124;43m.//div/div/a/div/div/img\u001b[39;49m\u001b[38;5;124;43m\"\u001b[39;49m\u001b[43m)\u001b[49m\n\u001b[1;32m     35\u001b[0m url \u001b[38;5;241m=\u001b[39m logo\u001b[38;5;241m.\u001b[39mget_attribute(\u001b[38;5;124m\"\u001b[39m\u001b[38;5;124msrc\u001b[39m\u001b[38;5;124m\"\u001b[39m)\n\u001b[1;32m     36\u001b[0m urls\u001b[38;5;241m.\u001b[39mappend(url)\n",
      "File \u001b[0;32m~/Development/Python/Financier/FinancierCrawling/.venv/lib/python3.11/site-packages/selenium/webdriver/remote/webelement.py:416\u001b[0m, in \u001b[0;36mWebElement.find_element\u001b[0;34m(self, by, value)\u001b[0m\n\u001b[1;32m    413\u001b[0m     by \u001b[38;5;241m=\u001b[39m By\u001b[38;5;241m.\u001b[39mCSS_SELECTOR\n\u001b[1;32m    414\u001b[0m     value \u001b[38;5;241m=\u001b[39m \u001b[38;5;124mf\u001b[39m\u001b[38;5;124m'\u001b[39m\u001b[38;5;124m[name=\u001b[39m\u001b[38;5;124m\"\u001b[39m\u001b[38;5;132;01m{\u001b[39;00mvalue\u001b[38;5;132;01m}\u001b[39;00m\u001b[38;5;124m\"\u001b[39m\u001b[38;5;124m]\u001b[39m\u001b[38;5;124m'\u001b[39m\n\u001b[0;32m--> 416\u001b[0m \u001b[38;5;28;01mreturn\u001b[39;00m \u001b[38;5;28;43mself\u001b[39;49m\u001b[38;5;241;43m.\u001b[39;49m\u001b[43m_execute\u001b[49m\u001b[43m(\u001b[49m\u001b[43mCommand\u001b[49m\u001b[38;5;241;43m.\u001b[39;49m\u001b[43mFIND_CHILD_ELEMENT\u001b[49m\u001b[43m,\u001b[49m\u001b[43m \u001b[49m\u001b[43m{\u001b[49m\u001b[38;5;124;43m\"\u001b[39;49m\u001b[38;5;124;43musing\u001b[39;49m\u001b[38;5;124;43m\"\u001b[39;49m\u001b[43m:\u001b[49m\u001b[43m \u001b[49m\u001b[43mby\u001b[49m\u001b[43m,\u001b[49m\u001b[43m \u001b[49m\u001b[38;5;124;43m\"\u001b[39;49m\u001b[38;5;124;43mvalue\u001b[39;49m\u001b[38;5;124;43m\"\u001b[39;49m\u001b[43m:\u001b[49m\u001b[43m \u001b[49m\u001b[43mvalue\u001b[49m\u001b[43m}\u001b[49m\u001b[43m)\u001b[49m[\u001b[38;5;124m\"\u001b[39m\u001b[38;5;124mvalue\u001b[39m\u001b[38;5;124m\"\u001b[39m]\n",
      "File \u001b[0;32m~/Development/Python/Financier/FinancierCrawling/.venv/lib/python3.11/site-packages/selenium/webdriver/remote/webelement.py:394\u001b[0m, in \u001b[0;36mWebElement._execute\u001b[0;34m(self, command, params)\u001b[0m\n\u001b[1;32m    392\u001b[0m     params \u001b[38;5;241m=\u001b[39m {}\n\u001b[1;32m    393\u001b[0m params[\u001b[38;5;124m\"\u001b[39m\u001b[38;5;124mid\u001b[39m\u001b[38;5;124m\"\u001b[39m] \u001b[38;5;241m=\u001b[39m \u001b[38;5;28mself\u001b[39m\u001b[38;5;241m.\u001b[39m_id\n\u001b[0;32m--> 394\u001b[0m \u001b[38;5;28;01mreturn\u001b[39;00m \u001b[38;5;28;43mself\u001b[39;49m\u001b[38;5;241;43m.\u001b[39;49m\u001b[43m_parent\u001b[49m\u001b[38;5;241;43m.\u001b[39;49m\u001b[43mexecute\u001b[49m\u001b[43m(\u001b[49m\u001b[43mcommand\u001b[49m\u001b[43m,\u001b[49m\u001b[43m \u001b[49m\u001b[43mparams\u001b[49m\u001b[43m)\u001b[49m\n",
      "File \u001b[0;32m~/Development/Python/Financier/FinancierCrawling/.venv/lib/python3.11/site-packages/selenium/webdriver/remote/webdriver.py:344\u001b[0m, in \u001b[0;36mWebDriver.execute\u001b[0;34m(self, driver_command, params)\u001b[0m\n\u001b[1;32m    342\u001b[0m response \u001b[38;5;241m=\u001b[39m \u001b[38;5;28mself\u001b[39m\u001b[38;5;241m.\u001b[39mcommand_executor\u001b[38;5;241m.\u001b[39mexecute(driver_command, params)\n\u001b[1;32m    343\u001b[0m \u001b[38;5;28;01mif\u001b[39;00m response:\n\u001b[0;32m--> 344\u001b[0m     \u001b[38;5;28;43mself\u001b[39;49m\u001b[38;5;241;43m.\u001b[39;49m\u001b[43merror_handler\u001b[49m\u001b[38;5;241;43m.\u001b[39;49m\u001b[43mcheck_response\u001b[49m\u001b[43m(\u001b[49m\u001b[43mresponse\u001b[49m\u001b[43m)\u001b[49m\n\u001b[1;32m    345\u001b[0m     response[\u001b[38;5;124m\"\u001b[39m\u001b[38;5;124mvalue\u001b[39m\u001b[38;5;124m\"\u001b[39m] \u001b[38;5;241m=\u001b[39m \u001b[38;5;28mself\u001b[39m\u001b[38;5;241m.\u001b[39m_unwrap_value(response\u001b[38;5;241m.\u001b[39mget(\u001b[38;5;124m\"\u001b[39m\u001b[38;5;124mvalue\u001b[39m\u001b[38;5;124m\"\u001b[39m, \u001b[38;5;28;01mNone\u001b[39;00m))\n\u001b[1;32m    346\u001b[0m     \u001b[38;5;28;01mreturn\u001b[39;00m response\n",
      "File \u001b[0;32m~/Development/Python/Financier/FinancierCrawling/.venv/lib/python3.11/site-packages/selenium/webdriver/remote/errorhandler.py:229\u001b[0m, in \u001b[0;36mErrorHandler.check_response\u001b[0;34m(self, response)\u001b[0m\n\u001b[1;32m    227\u001b[0m         alert_text \u001b[38;5;241m=\u001b[39m value[\u001b[38;5;124m\"\u001b[39m\u001b[38;5;124malert\u001b[39m\u001b[38;5;124m\"\u001b[39m]\u001b[38;5;241m.\u001b[39mget(\u001b[38;5;124m\"\u001b[39m\u001b[38;5;124mtext\u001b[39m\u001b[38;5;124m\"\u001b[39m)\n\u001b[1;32m    228\u001b[0m     \u001b[38;5;28;01mraise\u001b[39;00m exception_class(message, screen, stacktrace, alert_text)  \u001b[38;5;66;03m# type: ignore[call-arg]  # mypy is not smart enough here\u001b[39;00m\n\u001b[0;32m--> 229\u001b[0m \u001b[38;5;28;01mraise\u001b[39;00m exception_class(message, screen, stacktrace)\n",
      "\u001b[0;31mNoSuchElementException\u001b[0m: Message: Unable to locate element: .//div/div/a/div/div/img; For documentation on this error, please visit: https://www.selenium.dev/documentation/webdriver/troubleshooting/errors#no-such-element-exception\nStacktrace:\nRemoteError@chrome://remote/content/shared/RemoteError.sys.mjs:8:8\nWebDriverError@chrome://remote/content/shared/webdriver/Errors.sys.mjs:189:5\nNoSuchElementError@chrome://remote/content/shared/webdriver/Errors.sys.mjs:507:5\ndom.find/</<@chrome://remote/content/shared/DOM.sys.mjs:132:16\n"
     ]
    }
   ],
   "source": [
    "from selenium.common.exceptions import TimeoutException\n",
    "from selenium.webdriver.support.ui import WebDriverWait\n",
    "from selenium.webdriver.support import expected_conditions as EC\n",
    "\n",
    "\n",
    "urls = []\n",
    "\n",
    "for name in names:\n",
    "    print(\"scrapping \", name)\n",
    "    \n",
    "    search_section = driver.find_element(by=By.CLASS_NAME, value=\"search\")\n",
    "    search_form = driver.find_element(by=By.XPATH, value=\".//form/div/div/div/input\")\n",
    "    # save current page url\n",
    "    current_url = driver.current_url\n",
    "\n",
    "    # initiate page transition, e.g.:\n",
    "    search_form.clear()\n",
    "    search_form.send_keys(name)\n",
    "    search_form.submit()\n",
    "\n",
    "    # wait for URL to change with 15 seconds timeout\n",
    "    WebDriverWait(driver, 15).until(EC.url_changes(current_url))\n",
    "\n",
    "    \n",
    "\n",
    "    try:\n",
    "        logos_div = driver.find_element(by=By.CLASS_NAME, value=\"logos\")\n",
    "        logo = logos_div.find_element(by=By.XPATH, value=\".//div/div/a/div/div/img\")\n",
    "        url = logo.get_attribute(\"src\")\n",
    "        print(\"found logo for \", name)\n",
    "        \n",
    "    except NoSuchElementException:\n",
    "        print(\"no logo for \", name)\n",
    "        \n",
    "    finally:\n",
    "        urls.append([name, url])\n",
    "        print(\"appended \", url)\n",
    "\n",
    "urls"
   ]
  },
  {
   "cell_type": "code",
   "execution_count": null,
   "id": "8fc07df4-a7ae-4f2c-9d84-6198d5ba9400",
   "metadata": {
    "collapsed": false
   },
   "outputs": [],
   "source": []
  }
 ],
 "metadata": {
  "kernelspec": {
   "argv": [
    "/home/dks/Development/Python/Financier/FinancierCrawling/.venv/bin/python",
    "-m",
    "ipykernel_launcher",
    "-f",
    "{connection_file}"
   ],
   "display_name": "financiercrawling",
   "env": null,
   "interrupt_mode": "signal",
   "language": "python",
   "metadata": {
    "debugger": true
   },
   "name": "financiercrawling"
  },
  "name": "company-logo-crawler.ipynb"
 },
 "nbformat": 4,
 "nbformat_minor": 5
}
