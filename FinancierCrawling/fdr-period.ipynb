{
 "cells": [
  {
   "cell_type": "code",
   "execution_count": 4,
   "id": "d91f466e-2e68-4b28-8565-4194b7326fc7",
   "metadata": {
    "collapsed": false
   },
   "outputs": [],
   "source": [
    "import FinanceDataReader as fdr\n",
    "import numpy as np\n",
    "import pandas as pd"
   ]
  },
  {
   "cell_type": "code",
   "execution_count": 5,
   "id": "a9631ac1-cc39-4298-96be-17f2b4d2083b",
   "metadata": {
    "collapsed": false
   },
   "outputs": [],
   "source": [
    "data = fdr.DataReader(\"MMM\", \"2020-01-01\", \"2023-09-01\")"
   ]
  },
  {
   "cell_type": "code",
   "execution_count": 6,
   "id": "c90d1d48-f731-4e08-b039-ed32280c942e",
   "metadata": {
    "collapsed": false
   },
   "outputs": [
    {
     "data": {
      "text/html": [
       "<div>\n",
       "<style scoped>\n",
       "    .dataframe tbody tr th:only-of-type {\n",
       "        vertical-align: middle;\n",
       "    }\n",
       "\n",
       "    .dataframe tbody tr th {\n",
       "        vertical-align: top;\n",
       "    }\n",
       "\n",
       "    .dataframe thead th {\n",
       "        text-align: right;\n",
       "    }\n",
       "</style>\n",
       "<table border=\"1\" class=\"dataframe\">\n",
       "  <thead>\n",
       "    <tr style=\"text-align: right;\">\n",
       "      <th></th>\n",
       "      <th>Open</th>\n",
       "      <th>High</th>\n",
       "      <th>Low</th>\n",
       "      <th>Close</th>\n",
       "      <th>Volume</th>\n",
       "    </tr>\n",
       "    <tr>\n",
       "      <th>Date</th>\n",
       "      <th></th>\n",
       "      <th></th>\n",
       "      <th></th>\n",
       "      <th></th>\n",
       "      <th></th>\n",
       "    </tr>\n",
       "  </thead>\n",
       "  <tbody>\n",
       "    <tr>\n",
       "      <th>2020-01-02</th>\n",
       "      <td>177.679993</td>\n",
       "      <td>180.009995</td>\n",
       "      <td>177.139999</td>\n",
       "      <td>154.553299</td>\n",
       "      <td>3601700</td>\n",
       "    </tr>\n",
       "    <tr>\n",
       "      <th>2020-01-03</th>\n",
       "      <td>177.020004</td>\n",
       "      <td>178.660004</td>\n",
       "      <td>175.630005</td>\n",
       "      <td>153.222382</td>\n",
       "      <td>2466900</td>\n",
       "    </tr>\n",
       "    <tr>\n",
       "      <th>2020-01-06</th>\n",
       "      <td>177.149994</td>\n",
       "      <td>178.710007</td>\n",
       "      <td>176.350006</td>\n",
       "      <td>153.368378</td>\n",
       "      <td>1998000</td>\n",
       "    </tr>\n",
       "    <tr>\n",
       "      <th>2020-01-07</th>\n",
       "      <td>178.279999</td>\n",
       "      <td>178.509995</td>\n",
       "      <td>176.820007</td>\n",
       "      <td>152.750183</td>\n",
       "      <td>2173000</td>\n",
       "    </tr>\n",
       "    <tr>\n",
       "      <th>2020-01-08</th>\n",
       "      <td>178.000000</td>\n",
       "      <td>181.500000</td>\n",
       "      <td>177.649994</td>\n",
       "      <td>155.094238</td>\n",
       "      <td>2758300</td>\n",
       "    </tr>\n",
       "    <tr>\n",
       "      <th>...</th>\n",
       "      <td>...</td>\n",
       "      <td>...</td>\n",
       "      <td>...</td>\n",
       "      <td>...</td>\n",
       "      <td>...</td>\n",
       "    </tr>\n",
       "    <tr>\n",
       "      <th>2023-08-28</th>\n",
       "      <td>105.309998</td>\n",
       "      <td>105.650002</td>\n",
       "      <td>102.589996</td>\n",
       "      <td>104.120003</td>\n",
       "      <td>7638500</td>\n",
       "    </tr>\n",
       "    <tr>\n",
       "      <th>2023-08-29</th>\n",
       "      <td>104.989998</td>\n",
       "      <td>106.849998</td>\n",
       "      <td>104.879997</td>\n",
       "      <td>105.570000</td>\n",
       "      <td>5243200</td>\n",
       "    </tr>\n",
       "    <tr>\n",
       "      <th>2023-08-30</th>\n",
       "      <td>105.489998</td>\n",
       "      <td>105.849998</td>\n",
       "      <td>103.610001</td>\n",
       "      <td>104.449997</td>\n",
       "      <td>3273900</td>\n",
       "    </tr>\n",
       "    <tr>\n",
       "      <th>2023-08-31</th>\n",
       "      <td>105.940002</td>\n",
       "      <td>108.330002</td>\n",
       "      <td>105.489998</td>\n",
       "      <td>106.669998</td>\n",
       "      <td>6506100</td>\n",
       "    </tr>\n",
       "    <tr>\n",
       "      <th>2023-09-01</th>\n",
       "      <td>107.300003</td>\n",
       "      <td>108.300003</td>\n",
       "      <td>106.110001</td>\n",
       "      <td>106.949997</td>\n",
       "      <td>3640500</td>\n",
       "    </tr>\n",
       "  </tbody>\n",
       "</table>\n",
       "<p>924 rows × 5 columns</p>\n",
       "</div>"
      ],
      "text/plain": [
       "                  Open        High         Low       Close   Volume\n",
       "Date                                                               \n",
       "2020-01-02  177.679993  180.009995  177.139999  154.553299  3601700\n",
       "2020-01-03  177.020004  178.660004  175.630005  153.222382  2466900\n",
       "2020-01-06  177.149994  178.710007  176.350006  153.368378  1998000\n",
       "2020-01-07  178.279999  178.509995  176.820007  152.750183  2173000\n",
       "2020-01-08  178.000000  181.500000  177.649994  155.094238  2758300\n",
       "...                ...         ...         ...         ...      ...\n",
       "2023-08-28  105.309998  105.650002  102.589996  104.120003  7638500\n",
       "2023-08-29  104.989998  106.849998  104.879997  105.570000  5243200\n",
       "2023-08-30  105.489998  105.849998  103.610001  104.449997  3273900\n",
       "2023-08-31  105.940002  108.330002  105.489998  106.669998  6506100\n",
       "2023-09-01  107.300003  108.300003  106.110001  106.949997  3640500\n",
       "\n",
       "[924 rows x 5 columns]"
      ]
     },
     "execution_count": 6,
     "metadata": {},
     "output_type": "execute_result"
    }
   ],
   "source": [
    "data"
   ]
  },
  {
   "cell_type": "code",
   "execution_count": 9,
   "id": "8009472e-008b-4fca-aa6e-8755dddfbd64",
   "metadata": {
    "collapsed": false
   },
   "outputs": [],
   "source": [
    "    data = data.reset_index()\n",
    "    data = data.dropna()\n",
    "\n",
    "    data['Color'] = data.apply(lambda t: \"red\" if t['Open'] <= t['Close'] else \"blue\", axis=1)\n",
    "    data[\"Bottom\"] = data.apply(lambda t: t[\"Open\"]  if t['Color'] == \"red\" else t[\"Close\"], axis=1)\n",
    "    data[\"Area\"] = data.apply(lambda t: abs(np.trunc(100 * (t[\"Open\"] - t[\"Close\"])) / 100), axis=1)\n",
    "    \n",
    "    for k in [\"Open\", \"High\", \"Low\", \"Close\"]:\n",
    "        data[k] = np.trunc(100 * data[k]) / 100\n",
    "\n",
    "    \n",
    "\n",
    "    data[\"Date\"] = list(map(lambda d: str(d)[:-9], data[\"Date\"]))\n"
   ]
  },
  {
   "cell_type": "code",
   "execution_count": 46,
   "id": "262ac118-2dd4-43e1-9303-6c50db2d251a",
   "metadata": {
    "collapsed": false
   },
   "outputs": [
    {
     "name": "stdout",
     "output_type": "stream",
     "text": [
      "            index        Date    Open    High     Low   Close   Volume Color  \\\n",
      "Date                                                                           \n",
      "2020-01-02      0  2020-01-02  177.67  180.00  177.13  154.55  3601700  blue   \n",
      "2020-01-03      1  2020-01-03  177.02  178.66  175.63  153.22  2466900  blue   \n",
      "2020-01-06      2  2020-01-06  177.14  178.71  176.35  153.36  1998000  blue   \n",
      "2020-01-07      3  2020-01-07  178.27  178.50  176.82  152.75  2173000  blue   \n",
      "2020-01-08      4  2020-01-08  178.00  181.50  177.64  155.09  2758300  blue   \n",
      "...           ...         ...     ...     ...     ...     ...      ...   ...   \n",
      "2023-08-28    919  2023-08-28  105.30  105.65  102.58  104.12  7638500  blue   \n",
      "2023-08-29    920  2023-08-29  104.98  106.84  104.87  105.57  5243200   red   \n",
      "2023-08-30    921  2023-08-30  105.48  105.84  103.61  104.44  3273900  blue   \n",
      "2023-08-31    922  2023-08-31  105.94  108.33  105.48  106.66  6506100   red   \n",
      "2023-09-01    923  2023-09-01  107.30  108.30  106.11  106.94  3640500  blue   \n",
      "\n",
      "            Bottom   Area  year  month week  \n",
      "Date                                         \n",
      "2020-01-02  154.55  23.11  2020      1   01  \n",
      "2020-01-03  153.22  23.80  2020      1   01  \n",
      "2020-01-06  153.36  23.77  2020      1   02  \n",
      "2020-01-07  152.75  25.52  2020      1   02  \n",
      "2020-01-08  155.09  22.90  2020      1   02  \n",
      "...            ...    ...   ...    ...  ...  \n",
      "2023-08-28  104.12   1.17  2023      8   35  \n",
      "2023-08-29  104.98   0.58  2023      8   35  \n",
      "2023-08-30  104.44   1.04  2023      8   35  \n",
      "2023-08-31  105.94   0.71  2023      8   35  \n",
      "2023-09-01  106.94   0.35  2023      9   35  \n",
      "\n",
      "[924 rows x 13 columns]\n"
     ]
    }
   ],
   "source": [
    "data2 = data.copy()\n",
    "data2.index = pd.to_datetime(data2.Date)\n",
    "data2[\"year\"] = data2.index.year\n",
    "data2[\"month\"] = data2.index.month\n",
    "data2[\"week\"] = data2.index.strftime(\"%V\")\n",
    "data2 = data2.drop(\"level_0\", axis=1)\n",
    "print(data2)\n"
   ]
  },
  {
   "cell_type": "code",
   "execution_count": 47,
   "id": "73df5c71-93c5-4432-9a3c-c608a778494c",
   "metadata": {
    "collapsed": false
   },
   "outputs": [
    {
     "name": "stdout",
     "output_type": "stream",
     "text": [
      "DatetimeIndex(['2020-12-31', '2021-12-31', '2022-12-30', '2023-09-01'], dtype='datetime64[ns]', name='Date', freq=None)\n",
      "DatetimeIndex(['2020-01-31', '2020-02-28', '2020-03-31', '2020-04-30',\n",
      "               '2020-05-29', '2020-06-30', '2020-07-31', '2020-08-31',\n",
      "               '2020-09-30', '2020-10-30', '2020-11-30', '2020-12-31',\n",
      "               '2021-01-29', '2021-02-26', '2021-03-31', '2021-04-30',\n",
      "               '2021-05-28', '2021-06-30', '2021-07-30', '2021-08-31',\n",
      "               '2021-09-30', '2021-10-29', '2021-11-30', '2021-12-31',\n",
      "               '2022-01-31', '2022-02-28', '2022-03-31', '2022-04-29',\n",
      "               '2022-05-31', '2022-06-30', '2022-07-29', '2022-08-31',\n",
      "               '2022-09-30', '2022-10-31', '2022-11-30', '2022-12-30',\n",
      "               '2023-01-31', '2023-02-28', '2023-03-31', '2023-04-28',\n",
      "               '2023-05-31', '2023-06-30', '2023-07-31', '2023-08-31',\n",
      "               '2023-09-01'],\n",
      "              dtype='datetime64[ns]', name='Date', freq=None)\n",
      "DatetimeIndex(['2020-01-03', '2020-01-10', '2020-01-17', '2020-01-24',\n",
      "               '2020-01-31', '2020-02-07', '2020-02-14', '2020-02-21',\n",
      "               '2020-02-28', '2020-03-06',\n",
      "               ...\n",
      "               '2023-07-14', '2023-07-21', '2023-07-28', '2023-07-31',\n",
      "               '2023-08-04', '2023-08-11', '2023-08-18', '2023-08-25',\n",
      "               '2023-08-31', '2023-09-01'],\n",
      "              dtype='datetime64[ns]', name='Date', length=216, freq=None)\n",
      "DatetimeIndex(['2020-03-31', '2020-06-30', '2020-09-30', '2020-12-31',\n",
      "               '2021-03-31', '2021-06-30', '2021-09-30', '2021-12-31',\n",
      "               '2022-03-31', '2022-06-30', '2022-09-30', '2022-12-30',\n",
      "               '2023-03-31', '2023-06-30', '2023-09-01'],\n",
      "              dtype='datetime64[ns]', name='Date', freq=None)\n"
     ]
    }
   ],
   "source": [
    "data3 = data2.copy()\n",
    "years = data3.drop_duplicates([\"year\"], keep=\"last\").index #year\n",
    "\n",
    "months = data3.drop_duplicates([\"year\", \"month\"], keep=\"last\").index #month\n",
    "\n",
    "weeks = data3.drop_duplicates([\"year\", \"month\", \"week\"], keep=\"last\").index #week\n",
    "\n",
    "# quarter\n",
    "quarter = [3, 6, 9, 12]\n",
    "data3 = data3.loc[data3[\"month\"].isin(quarter)]\n",
    "quarters = data3.drop_duplicates([\"year\", \"month\"], keep=\"last\").index\n",
    "\n",
    "print(years)\n",
    "print(months)\n",
    "print(weeks)\n",
    "print(quarters)"
   ]
  },
  {
   "cell_type": "code",
   "execution_count": 61,
   "id": "6847165b-5e29-4459-bf47-a29d5aab7637",
   "metadata": {
    "collapsed": false
   },
   "outputs": [
    {
     "name": "stdout",
     "output_type": "stream",
     "text": [
      "            index        Date    Open    High     Low   Close   Volume Color  \\\n",
      "Date                                                                           \n",
      "2020-01-10      6  2020-01-10  181.61  182.17  180.13  154.94  2103800  blue   \n",
      "2020-01-13      7  2020-01-13  180.94  182.22  180.36  155.34  2090800  blue   \n",
      "2020-01-14      8  2020-01-14  180.91  182.55  180.21  155.72  2911200  blue   \n",
      "2020-01-15      9  2020-01-15  181.41  181.86  179.17  154.36  2482200  blue   \n",
      "2020-01-16     10  2020-01-16  180.67  181.19  179.69  155.41  2149900  blue   \n",
      "2020-01-17     11  2020-01-17  181.00  182.14  180.69  155.71  3690100  blue   \n",
      "\n",
      "            Bottom   Area  year  month week  \n",
      "Date                                         \n",
      "2020-01-10  154.94  26.67  2020      1   02  \n",
      "2020-01-13  155.34  25.59  2020      1   03  \n",
      "2020-01-14  155.72  25.19  2020      1   03  \n",
      "2020-01-15  154.36  27.04  2020      1   03  \n",
      "2020-01-16  155.41  25.25  2020      1   03  \n",
      "2020-01-17  155.71  25.28  2020      1   03  \n",
      "OPEN:  181.61\n",
      "MAX:  182.55\n",
      "MIN:  179.17\n",
      "CLOSE:  155.71\n",
      "VOL:  15428000\n",
      "COLOR:  blue\n"
     ]
    }
   ],
   "source": [
    "data4 = data2.copy()[weeks[1]:weeks[2]]\n",
    "print(data4)\n",
    "print(\"OPEN: \", data4[\"Open\"].iloc[0])\n",
    "print(\"MAX: \", max(data4[\"High\"]))\n",
    "print(\"MIN: \", min(data4[\"Low\"]))\n",
    "print(\"CLOSE: \", data4[\"Close\"].iloc[-1])\n",
    "print(\"VOL: \", sum(data4[\"Volume\"]))\n",
    "print(\"COLOR: \", \"blue\" if data4[\"Open\"].iloc[0] > data4[\"Close\"].iloc[-1] else \"red\")"
   ]
  },
  {
   "cell_type": "code",
   "execution_count": 62,
   "id": "743f5794-defb-4c6d-9ad1-5bb1b26294b9",
   "metadata": {
    "collapsed": false
   },
   "outputs": [
    {
     "data": {
      "text/plain": [
       "[1, 2]"
      ]
     },
     "execution_count": 62,
     "metadata": {},
     "output_type": "execute_result"
    }
   ],
   "source": [
    "a = [1, 2, 3]\n",
    "a[:-1]"
   ]
  },
  {
   "cell_type": "code",
   "execution_count": null,
   "id": "1821c930-5760-41f9-9da3-9970f5b38adb",
   "metadata": {
    "collapsed": false
   },
   "outputs": [],
   "source": []
  }
 ],
 "metadata": {
  "kernelspec": {
   "argv": [
    "/home/dks/Development/Python/Financier/FinancierCrawling/.venv/bin/python",
    "-m",
    "ipykernel_launcher",
    "-f",
    "{connection_file}"
   ],
   "display_name": "financiercrawling",
   "env": null,
   "interrupt_mode": "signal",
   "language": "python",
   "metadata": {
    "debugger": true
   },
   "name": "financiercrawling"
  },
  "name": "fdr-period.ipynb"
 },
 "nbformat": 4,
 "nbformat_minor": 5
}
