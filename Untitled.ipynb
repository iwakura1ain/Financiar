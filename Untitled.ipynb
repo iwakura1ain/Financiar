{
 "cells": [
  {
   "cell_type": "code",
   "execution_count": 1,
   "id": "00915045-559a-48e2-9801-120833d8cd12",
   "metadata": {
    "collapsed": false
   },
   "outputs": [
    {
     "ename": "ModuleNotFoundError",
     "evalue": "No module named 'pandas'",
     "output_type": "error",
     "traceback": [
      "\u001b[0;31m---------------------------------------------------------------------------\u001b[0m",
      "\u001b[0;31mModuleNotFoundError\u001b[0m                       Traceback (most recent call last)",
      "Cell \u001b[0;32mIn[1], line 5\u001b[0m\n\u001b[1;32m      2\u001b[0m \u001b[38;5;66;03m#17011505 안창언 중간 프로젝트 \u001b[39;00m\n\u001b[1;32m      4\u001b[0m \u001b[38;5;28;01mimport\u001b[39;00m \u001b[38;5;21;01mFinanceDataReader\u001b[39;00m \u001b[38;5;28;01mas\u001b[39;00m \u001b[38;5;21;01mfdr\u001b[39;00m\n\u001b[0;32m----> 5\u001b[0m \u001b[38;5;28;01mimport\u001b[39;00m \u001b[38;5;21;01mpandas\u001b[39;00m \u001b[38;5;28;01mas\u001b[39;00m \u001b[38;5;21;01mpd\u001b[39;00m\n\u001b[1;32m      6\u001b[0m \u001b[38;5;28;01mimport\u001b[39;00m \u001b[38;5;21;01mmatplotlib\u001b[39;00m\u001b[38;5;21;01m.\u001b[39;00m\u001b[38;5;21;01mpyplot\u001b[39;00m \u001b[38;5;28;01mas\u001b[39;00m \u001b[38;5;21;01mplt\u001b[39;00m\n\u001b[1;32m      7\u001b[0m \u001b[38;5;28;01mimport\u001b[39;00m \u001b[38;5;21;01mnumpy\u001b[39;00m \u001b[38;5;28;01mas\u001b[39;00m \u001b[38;5;21;01mnp\u001b[39;00m\n",
      "\u001b[0;31mModuleNotFoundError\u001b[0m: No module named 'pandas'"
     ]
    }
   ],
   "source": [
    "import json\n",
    "#17011505 안창언 중간 프로젝트 \n",
    "\n",
    "import FinanceDataReader as fdr\n",
    "import pandas as pd\n",
    "import matplotlib.pyplot as plt\n",
    "import numpy as np\n",
    "from pandas_datareader import data\n",
    "\n",
    "df_snp = fdr.StockListing(\"S&P500\")\n",
    "df_snp = df_snp.rename(columns={\"Symbol\": \"ticker\", \"Name\": \"name\", \"Sector\": \"sector\"})\n",
    "df_snp2 = df_snp.drop(columns=\"Industry\")\n",
    "\n",
    "#df_snp3 = df_snp2.iloc[:10]\n",
    "# for column in df_snp3.items():\n",
    "#     print(column, \"\\n\")\n",
    "\n",
    "df_snp4 = df_snp3.transpose()\n",
    "df_snp4.to_json(r'/home/dks/Development/Python/FinancierBackend/test.json')\n",
    "print(\"done\")\n",
    " \n",
    "# Opening JSON file\n",
    "f = open('test.json')\n",
    " \n",
    "# returns JSON object as\n",
    "# a dictionary\n",
    "data = json.load(f)\n",
    "\n",
    "stock_list = []\n",
    "\n",
    "for d in data:\n",
    "    stock_list.append(data[d])\n",
    "\n",
    "# Serializing json\n",
    "json_object = json.dumps(stock_list, indent=4)\n",
    " \n",
    "# Writing to sample.json\n",
    "with open(\"test-cleaned.json\", \"w\") as outfile:\n",
    "    outfile.write(json_object)\n",
    " \n",
    "# Closing file\n",
    "f.close()"
   ]
  },
  {
   "cell_type": "code",
   "execution_count": null,
   "id": "79a50247-52a9-46ea-bbc9-52f95f4f55a2",
   "metadata": {
    "collapsed": false
   },
   "outputs": [],
   "source": []
  }
 ],
 "metadata": {
  "kernelspec": {
   "argv": [
    "python",
    "-m",
    "ipykernel_launcher",
    "-f",
    "{connection_file}"
   ],
   "display_name": "Python 3 (ipykernel)",
   "env": null,
   "interrupt_mode": "signal",
   "language": "python",
   "metadata": {
    "debugger": true
   },
   "name": "python3"
  },
  "name": "Untitled.ipynb"
 },
 "nbformat": 4,
 "nbformat_minor": 5
}
